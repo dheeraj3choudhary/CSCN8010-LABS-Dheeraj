{
 "cells": [
  {
   "cell_type": "code",
   "execution_count": 1,
   "metadata": {},
   "outputs": [
    {
     "name": "stdout",
     "output_type": "stream",
     "text": [
      "abc\n",
      "xyz\n"
     ]
    }
   ],
   "source": [
    "user_input = input(\"Please enter your message - Print Stop to end the loop\")\n",
    "while user_input != \"stop\":\n",
    "    print(user_input)\n",
    "    user_input = input(\"Please enter your message - Print Stop to end the loop\")"
   ]
  }
 ],
 "metadata": {
  "kernelspec": {
   "display_name": "CSCN8010_venv",
   "language": "python",
   "name": "cscn8010_venv"
  },
  "language_info": {
   "codemirror_mode": {
    "name": "ipython",
    "version": 3
   },
   "file_extension": ".py",
   "mimetype": "text/x-python",
   "name": "python",
   "nbconvert_exporter": "python",
   "pygments_lexer": "ipython3",
   "version": "3.12.6"
  }
 },
 "nbformat": 4,
 "nbformat_minor": 2
}
